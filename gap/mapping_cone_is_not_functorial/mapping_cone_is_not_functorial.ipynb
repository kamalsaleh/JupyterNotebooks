{
 "cells": [
  {
   "cell_type": "code",
   "execution_count": 3,
   "metadata": {},
   "outputs": [
    {
     "name": "stdout",
     "output_type": "stream",
     "text": [
      "#I  method installed for DeterminantMatrix matches more than one declaration\n",
      "#I  method installed for IdentityMatrix matches more than one declaration\n",
      "#I  method installed for RowsOfMatrix matches more than one declaration\n",
      "#I  method installed for RowsOfMatrix matches more than one declaration\n",
      "#I  method installed for RowsOfMatrix matches more than one declaration\n",
      "#I  method installed for UnderlyingField matches more than one declaration\n",
      "#I  method installed for + matches more than one declaration\n",
      "#I  method installed for IsZero matches more than one declaration\n",
      "#I  method installed for InverseMutable matches more than one declaration\n",
      "#I  method installed for IsZero matches more than one declaration\n",
      "#I  method installed for + matches more than one declaration\n",
      "#I  method installed for InverseMutable matches more than one declaration\n",
      "#I  method installed for IsZero matches more than one declaration\n",
      "#I  method installed for + matches more than one declaration\n",
      "#I  method installed for InverseMutable matches more than one declaration\n"
     ]
    },
    {
     "data": {
      "text/plain": [
       "true"
      ]
     },
     "execution_count": 1,
     "metadata": {
      "text/plain": ""
     },
     "output_type": "execute_result"
    }
   ],
   "source": [
    "LoadPackage( \"DerivedCategories\" );\n",
    "ENABLE_COLORS := true;;\n",
    "SizeScreen([1000, 1000]);;"
   ]
  },
  {
   "cell_type": "code",
   "execution_count": 4,
   "metadata": {},
   "outputs": [
    {
     "data": {
      "text/plain": [
       "<field in characteristic 0>"
      ]
     },
     "execution_count": 4,
     "metadata": {
      "text/plain": ""
     },
     "output_type": "execute_result"
    }
   ],
   "source": [
    "k := HomalgFieldOfRationals( );"
   ]
  },
  {
   "attachments": {
    "1.png": {
     "image/png": "[encoded data removed]"
    }
   },
   "cell_type": "markdown",
   "metadata": {},
   "source": [
    "![1.png](attachment:1.png)"
   ]
  },
  {
   "cell_type": "code",
   "execution_count": 5,
   "metadata": {},
   "outputs": [
    {
     "data": {
      "text/plain": [
       "[ \"A\", \"B\", \"C\", \"D\" ]"
      ]
     },
     "execution_count": 5,
     "metadata": {
      "text/plain": ""
     },
     "output_type": "execute_result"
    }
   ],
   "source": [
    "vertices := [ \"A\", \"B\", \"C\", \"D\" ];"
   ]
  },
  {
   "cell_type": "code",
   "execution_count": 8,
   "metadata": {},
   "outputs": [
    {
     "data": {
      "text/plain": [
       "[ \"r\", \"s\", \"f_0\", \"f_1\", \"g_0\", \"g_1\", \"u\", \"v\" ]"
      ]
     },
     "execution_count": 6,
     "metadata": {
      "text/plain": ""
     },
     "output_type": "execute_result"
    }
   ],
   "source": [
    "arrows := [ \"r\", \"s\", \"f_0\", \"f_1\", \"g_0\", \"g_1\", \"u\", \"v\" ];\n",
    "sources := [ 1, 2, 1, 3, 1, 3, 3, 3 ];;\n",
    "targets  := [ 3, 4, 2, 4, 2, 4, 2, 2 ];;"
   ]
  },
  {
   "cell_type": "code",
   "execution_count": 10,
   "metadata": {},
   "outputs": [
    {
     "name": "stdout",
     "output_type": "stream",
     "text": [
      "quiver(A,B,C,D)[r:A->C,s:B->D,f_0:A->B,f_1:C->D,g_0:A->B,g_1:C->D,u:C->B,v:C->B]"
     ]
    }
   ],
   "source": [
    "Q := RightQuiver( \"quiver\", vertices, arrows, sources, targets );;\n",
    "ViewObj( Q );"
   ]
  },
  {
   "cell_type": "code",
   "execution_count": 12,
   "metadata": {},
   "outputs": [
    {
     "name": "stdout",
     "output_type": "stream",
     "text": [
      "Q * quiver"
     ]
    }
   ],
   "source": [
    "kQ := PathAlgebra( k, Q );;\n",
    "ViewObj( kQ );"
   ]
  },
  {
   "cell_type": "code",
   "execution_count": 13,
   "metadata": {},
   "outputs": [
    {
     "data": {
      "text/plain": [
       "[ -1*(f_0*s) + 1*(r*f_1), -1*(g_0*s) + 1*(r*g_1), -1*(v*s) - 1*(g_1) + 1*(f_1), -1*(r*u) - 1*(g_0) + 1*(f_0) ]"
      ]
     },
     "execution_count": 13,
     "metadata": {
      "text/plain": ""
     },
     "output_type": "execute_result"
    }
   ],
   "source": [
    "I := [\n",
    "      kQ.r * kQ.f_1 - kQ.f_0 * kQ.s,\n",
    "      kQ.r * kQ.g_1 - kQ.g_0 * kQ.s,\n",
    "      kQ.f_1 - kQ.g_1- kQ.v * kQ.s,\n",
    "      kQ.f_0 - kQ.g_0 - kQ.r * kQ.u\n",
    "    ];"
   ]
  },
  {
   "cell_type": "code",
   "execution_count": 16,
   "metadata": {},
   "outputs": [
    {
     "name": "stdout",
     "output_type": "stream",
     "text": [
      "kQ/I"
     ]
    }
   ],
   "source": [
    "kQ_mod_I := kQ / I;;\n",
    "SetName( kQ_mod_I, \"kQ/I\" );\n",
    "ViewObj( kQ_mod_I );"
   ]
  },
  {
   "cell_type": "code",
   "execution_count": 17,
   "metadata": {},
   "outputs": [
    {
     "data": {
      "text/plain": [
       "16"
      ]
     },
     "execution_count": 17,
     "metadata": {
      "text/plain": ""
     },
     "output_type": "execute_result"
    }
   ],
   "source": [
    "Dimension( kQ_mod_I );"
   ]
  },
  {
   "cell_type": "code",
   "execution_count": 18,
   "metadata": {},
   "outputs": [
    {
     "data": {
      "text/plain": [
       "[ \"Name\", \"LeftActingDomain\", \"MultiplicativeNeutralElement\", \"Dimension\", \"GeneratorsOfLeftOperatorAdditiveGroup\", \"Basis\", \"CanonicalBasis\", \"QuiverOfAlgebra\", \"IdealOfQuotient\", \"PathAlgebra\", \"Hash\" ]"
      ]
     },
     "execution_count": 18,
     "metadata": {
      "text/plain": ""
     },
     "output_type": "execute_result"
    }
   ],
   "source": [
    "KnownAttributesOfObject( kQ_mod_I );"
   ]
  },
  {
   "cell_type": "code",
   "execution_count": 19,
   "metadata": {},
   "outputs": [
    {
     "data": {
      "text/plain": [
       "\u001b[32mAlgebroid( \u001b[0mkQ/I\u001b[32m )\u001b[0m"
      ]
     },
     "execution_count": 19,
     "metadata": {
      "text/plain": ""
     },
     "output_type": "execute_result"
    }
   ],
   "source": [
    "oid := Algebroid( kQ_mod_I );"
   ]
  },
  {
   "cell_type": "code",
   "execution_count": 21,
   "metadata": {},
   "outputs": [
    {
     "data": {
      "text/plain": [
       "4"
      ]
     },
     "execution_count": 21,
     "metadata": {
      "text/plain": ""
     },
     "output_type": "execute_result"
    }
   ],
   "source": [
    "objs := SetOfObjects( oid );;\n",
    "Size( objs );"
   ]
  },
  {
   "cell_type": "code",
   "execution_count": 22,
   "metadata": {},
   "outputs": [
    {
     "data": {
      "text/plain": [
       "<An object in \u001b[32mAlgebroid( \u001b[0mkQ/I\u001b[32m )\u001b[0m>"
      ]
     },
     "execution_count": 22,
     "metadata": {
      "text/plain": ""
     },
     "output_type": "execute_result"
    }
   ],
   "source": [
    "objs[ 1 ];"
   ]
  },
  {
   "cell_type": "code",
   "execution_count": 23,
   "metadata": {},
   "outputs": [
    {
     "name": "stdout",
     "output_type": "stream",
     "text": [
      "<(A)>"
     ]
    }
   ],
   "source": [
    "ViewObj( objs[ 1 ] );"
   ]
  },
  {
   "cell_type": "code",
   "execution_count": 24,
   "metadata": {},
   "outputs": [
    {
     "data": {
      "text/plain": [
       "true"
      ]
     },
     "execution_count": 24,
     "metadata": {
      "text/plain": ""
     },
     "output_type": "execute_result"
    }
   ],
   "source": [
    "objs[ 1 ] = oid.( \"A\" );"
   ]
  },
  {
   "cell_type": "code",
   "execution_count": 26,
   "metadata": {},
   "outputs": [
    {
     "data": {
      "text/plain": [
       "8"
      ]
     },
     "execution_count": 26,
     "metadata": {
      "text/plain": ""
     },
     "output_type": "execute_result"
    }
   ],
   "source": [
    "mors := SetOfGeneratingMorphisms( oid );;\n",
    "Size( mors );"
   ]
  },
  {
   "cell_type": "code",
   "execution_count": 27,
   "metadata": {},
   "outputs": [
    {
     "data": {
      "text/plain": [
       "<A morphism in \u001b[32mAlgebroid( \u001b[0mkQ/I\u001b[32m )\u001b[0m>"
      ]
     },
     "execution_count": 27,
     "metadata": {
      "text/plain": ""
     },
     "output_type": "execute_result"
    }
   ],
   "source": [
    "mors[ 1 ];"
   ]
  },
  {
   "cell_type": "code",
   "execution_count": 28,
   "metadata": {},
   "outputs": [
    {
     "name": "stdout",
     "output_type": "stream",
     "text": [
      "(A)-[{ 1*(r) }]->(C)"
     ]
    }
   ],
   "source": [
    "ViewObj( mors[ 1 ] );"
   ]
  },
  {
   "cell_type": "code",
   "execution_count": 29,
   "metadata": {},
   "outputs": [
    {
     "data": {
      "text/plain": [
       "true"
      ]
     },
     "execution_count": 29,
     "metadata": {
      "text/plain": ""
     },
     "output_type": "execute_result"
    }
   ],
   "source": [
    "mors[ 1 ] = oid.( \"r\" );"
   ]
  },
  {
   "cell_type": "code",
   "execution_count": 30,
   "metadata": {},
   "outputs": [
    {
     "data": {
      "text/plain": [
       "<A morphism in \u001b[32mAlgebroid( \u001b[0mkQ/I\u001b[32m )\u001b[0m>"
      ]
     },
     "execution_count": 30,
     "metadata": {
      "text/plain": ""
     },
     "output_type": "execute_result"
    }
   ],
   "source": [
    "r_f1 := PreCompose( oid.( \"r\" ), oid.( \"f_1\" ) );"
   ]
  },
  {
   "cell_type": "code",
   "execution_count": 31,
   "metadata": {},
   "outputs": [
    {
     "name": "stdout",
     "output_type": "stream",
     "text": [
      "(A)-[{ 1*(r*f_1) }]->(D)"
     ]
    }
   ],
   "source": [
    "ViewObj( r_f1 );"
   ]
  },
  {
   "cell_type": "code",
   "execution_count": 32,
   "metadata": {},
   "outputs": [
    {
     "data": {
      "text/plain": [
       "true"
      ]
     },
     "execution_count": 32,
     "metadata": {
      "text/plain": ""
     },
     "output_type": "execute_result"
    }
   ],
   "source": [
    "PreCompose( oid.( \"r\" ), oid.( \"f_1\" ) ) = PreCompose( oid.( \"f_0\" ), oid.( \"s\" ) );"
   ]
  },
  {
   "cell_type": "code",
   "execution_count": 33,
   "metadata": {},
   "outputs": [
    {
     "data": {
      "text/plain": [
       "Additive closure( \u001b[32mAlgebroid( \u001b[0mkQ/I\u001b[32m )\u001b[0m )"
      ]
     },
     "execution_count": 33,
     "metadata": {
      "text/plain": ""
     },
     "output_type": "execute_result"
    }
   ],
   "source": [
    "oplus := AdditiveClosure( oid );"
   ]
  },
  {
   "cell_type": "code",
   "execution_count": 34,
   "metadata": {},
   "outputs": [
    {
     "data": {
      "text/plain": [
       "\u001b[33mCochain complexes( \u001b[0mAdditive closure( \u001b[32mAlgebroid( \u001b[0mkQ/I\u001b[32m )\u001b[0m )\u001b[33m )\u001b[0m"
      ]
     },
     "execution_count": 34,
     "metadata": {
      "text/plain": ""
     },
     "output_type": "execute_result"
    }
   ],
   "source": [
    "Co := CochainComplexCategory( oplus );"
   ]
  },
  {
   "cell_type": "code",
   "execution_count": 35,
   "metadata": {},
   "outputs": [
    {
     "data": {
      "text/plain": [
       "\u001b[33mHomotopy^• category( \u001b[0mAdditive closure( \u001b[32mAlgebroid( \u001b[0mkQ/I\u001b[32m )\u001b[0m )\u001b[33m )\u001b[0m"
      ]
     },
     "execution_count": 35,
     "metadata": {
      "text/plain": ""
     },
     "output_type": "execute_result"
    }
   ],
   "source": [
    "Ho := HomotopyCategory( oplus, true );"
   ]
  },
  {
   "cell_type": "markdown",
   "metadata": {},
   "source": [
    "We want now to interpret the objects and generating morphisms of the algebroid as cells concentrated at cohomological degree 0 in the homotopy category. This can be done by defining them first in the additive closure, then category of cochain complexes and then in the homotopy category defined using cochain complexes."
   ]
  },
  {
   "cell_type": "code",
   "execution_count": 36,
   "metadata": {},
   "outputs": [
    {
     "data": {
      "text/plain": [
       "<An object in \u001b[33mHomotopy^• category( \u001b[0mAdditive closure( \u001b[32mAlgebroid( \u001b[0mkQ/I\u001b[32m )\u001b[0m )\u001b[33m )\u001b[0m>"
      ]
     },
     "execution_count": 36,
     "metadata": {
      "text/plain": ""
     },
     "output_type": "execute_result"
    }
   ],
   "source": [
    "A := oid.( \"A\" ) / oplus / Co / Ho;"
   ]
  },
  {
   "cell_type": "code",
   "execution_count": 37,
   "metadata": {},
   "outputs": [
    {
     "name": "stdout",
     "output_type": "stream",
     "text": [
      "== \u001b[33m0\u001b[0m =======================\n",
      "A formal direct sum consisting of 1 objects.\n",
      "<(A)>\n",
      "\n",
      "============================\n",
      "\n",
      "\n",
      "An object in \u001b[33mHomotopy^• category( \u001b[0mAdditive closure( \u001b[32mAlgebroid( \u001b[0mkQ/I\u001b[32m )\u001b[0m )\u001b[33m )\u001b[0m given by the above data\n"
     ]
    }
   ],
   "source": [
    "Display( A );"
   ]
  },
  {
   "cell_type": "code",
   "execution_count": 40,
   "metadata": {},
   "outputs": [],
   "source": [
    "B := oid.( \"B\" ) / oplus / Co / Ho;;\n",
    "C := oid.( \"C\" ) / oplus / Co / Ho;;\n",
    "D := oid.( \"D\" ) / oplus / Co / Ho;;"
   ]
  },
  {
   "cell_type": "code",
   "execution_count": 41,
   "metadata": {},
   "outputs": [
    {
     "data": {
      "text/plain": [
       "<A morphism in \u001b[33mHomotopy^• category( \u001b[0mAdditive closure( \u001b[32mAlgebroid( \u001b[0mkQ/I\u001b[32m )\u001b[0m )\u001b[33m )\u001b[0m>"
      ]
     },
     "execution_count": 41,
     "metadata": {
      "text/plain": ""
     },
     "output_type": "execute_result"
    }
   ],
   "source": [
    "r := oid.( \"r\" ) / oplus / Co / Ho;"
   ]
  },
  {
   "cell_type": "code",
   "execution_count": 42,
   "metadata": {},
   "outputs": [
    {
     "name": "stdout",
     "output_type": "stream",
     "text": [
      "\n",
      "== \u001b[32m0\u001b[0m =======================\n",
      "A 1 x 1 matrix with entries in \u001b[32mAlgebroid( \u001b[0mkQ/I\u001b[32m )\u001b[0m\n",
      "\n",
      "[1,1]: (A)-[{ 1*(r) }]->(C)\n",
      "\n",
      "A morphism in \u001b[33mHomotopy^• category( \u001b[0mAdditive closure( \u001b[32mAlgebroid( \u001b[0mkQ/I\u001b[32m )\u001b[0m )\u001b[33m )\u001b[0m given by the above data\n"
     ]
    }
   ],
   "source": [
    "Display( r );"
   ]
  },
  {
   "cell_type": "code",
   "execution_count": 49,
   "metadata": {},
   "outputs": [],
   "source": [
    "s := oid.( \"s\" ) / oplus / Co / Ho;;\n",
    "u := oid.( \"u\" ) / oplus / Co / Ho;;\n",
    "v := oid.( \"v\" ) / oplus / Co / Ho;;\n",
    "f_0 := oid.( \"f_0\" ) / oplus / Co / Ho;;\n",
    "f_1 := oid.( \"f_1\" ) / oplus / Co / Ho;;\n",
    "g_0 := oid.( \"g_0\" ) / oplus / Co / Ho;;\n",
    "g_1 := oid.( \"g_1\" ) / oplus / Co / Ho;;"
   ]
  },
  {
   "cell_type": "code",
   "execution_count": 50,
   "metadata": {},
   "outputs": [
    {
     "data": {
      "text/plain": [
       "true"
      ]
     },
     "execution_count": 50,
     "metadata": {
      "text/plain": ""
     },
     "output_type": "execute_result"
    }
   ],
   "source": [
    "IsTriangulatedCategory( Ho );"
   ]
  },
  {
   "cell_type": "code",
   "execution_count": 52,
   "metadata": {},
   "outputs": [
    {
     "data": {
      "text/plain": [
       "<An object in \u001b[34mCategory of exact triangles( \u001b[0m\u001b[33mHomotopy^• category( \u001b[0mAdditive closure( \u001b[32mAlgebroid( \u001b[0mkQ/I\u001b[32m )\u001b[0m )\u001b[33m )\u001b[0m\u001b[34m )\u001b[0m>"
      ]
     },
     "execution_count": 51,
     "metadata": {
      "text/plain": ""
     },
     "output_type": "execute_result"
    },
    {
     "data": {
      "text/plain": [
       "<An object in \u001b[34mCategory of exact triangles( \u001b[0m\u001b[33mHomotopy^• category( \u001b[0mAdditive closure( \u001b[32mAlgebroid( \u001b[0mkQ/I\u001b[32m )\u001b[0m )\u001b[33m )\u001b[0m\u001b[34m )\u001b[0m>"
      ]
     },
     "execution_count": 52,
     "metadata": {
      "text/plain": ""
     },
     "output_type": "execute_result"
    }
   ],
   "source": [
    "st_r := StandardExactTriangle( r );\n",
    "st_s := StandardExactTriangle( s );"
   ]
  },
  {
   "cell_type": "code",
   "execution_count": 53,
   "metadata": {},
   "outputs": [
    {
     "name": "stdout",
     "output_type": "stream",
     "text": [
      "       T ^ 0          T ^ 1          T ^ 2              \n",
      "T[ 0 ] ------> T[ 1 ] ------> T[ 2 ] ------> Σ( T[ 0 ] )\n",
      "\n",
      "\u001b[46mT[ 0 ]:\u001b[0m\n",
      "\n",
      "== \u001b[32m0\u001b[0m =======================\n",
      "A formal direct sum consisting of 1 objects.\n",
      "<(A)>\n",
      "\n",
      "============================\n",
      "\n",
      "\n",
      "An object in \u001b[33mHomotopy^• category( \u001b[0mAdditive closure( \u001b[32mAlgebroid( \u001b[0mkQ/I\u001b[32m )\u001b[0m )\u001b[33m )\u001b[0m given by the above data\n",
      "\n",
      "\u001b[46mT ^ 0:\u001b[0m\n",
      "\n",
      "\n",
      "== \u001b[32m0\u001b[0m =======================\n",
      "A 1 x 1 matrix with entries in \u001b[32mAlgebroid( \u001b[0mkQ/I\u001b[32m )\u001b[0m\n",
      "\n",
      "[1,1]: (A)-[{ 1*(r) }]->(C)\n",
      "\n",
      "A morphism in \u001b[33mHomotopy^• category( \u001b[0mAdditive closure( \u001b[32mAlgebroid( \u001b[0mkQ/I\u001b[32m )\u001b[0m )\u001b[33m )\u001b[0m given by the above data\n",
      "\n",
      "\u001b[46mT[ 1 ]:\u001b[0m\n",
      "\n",
      "== \u001b[34m0\u001b[0m =======================\n",
      "A formal direct sum consisting of 1 objects.\n",
      "<(C)>\n",
      "\n",
      "============================\n",
      "\n",
      "\n",
      "An object in \u001b[33mHomotopy^• category( \u001b[0mAdditive closure( \u001b[32mAlgebroid( \u001b[0mkQ/I\u001b[32m )\u001b[0m )\u001b[33m )\u001b[0m given by the above data\n",
      "\n",
      "\u001b[46mT ^ 1:\u001b[0m\n",
      "\n",
      "\n",
      "== \u001b[34m0\u001b[0m =======================\n",
      "A 1 x 1 matrix with entries in \u001b[32mAlgebroid( \u001b[0mkQ/I\u001b[32m )\u001b[0m\n",
      "\n",
      "[1,1]: (C)-[{ 1*(C) }]->(C)\n",
      "\n",
      "A morphism in \u001b[33mHomotopy^• category( \u001b[0mAdditive closure( \u001b[32mAlgebroid( \u001b[0mkQ/I\u001b[32m )\u001b[0m )\u001b[33m )\u001b[0m given by the above data\n",
      "\n",
      "\u001b[46mT[ 2 ]:\u001b[0m\n",
      "\n",
      "== \u001b[33m-1\u001b[0m =======================\n",
      "A formal direct sum consisting of 1 objects.\n",
      "<(A)>\n",
      "\n",
      "=============================\n",
      "\n",
      "  \u001b[33m |\u001b[0m\n",
      "A 1 x 1 matrix with entries in \u001b[32mAlgebroid( \u001b[0mkQ/I\u001b[32m )\u001b[0m\n",
      "\n",
      "[1,1]: (A)-[{ 1*(r) }]->(C)\n",
      "  \u001b[33m |\u001b[0m\n",
      "  \u001b[33m V\u001b[0m\n",
      "\n",
      "== \u001b[33m0\u001b[0m =======================\n",
      "A formal direct sum consisting of 1 objects.\n",
      "<(C)>\n",
      "\n",
      "============================\n",
      "\n",
      "\n",
      "An object in \u001b[33mHomotopy^• category( \u001b[0mAdditive closure( \u001b[32mAlgebroid( \u001b[0mkQ/I\u001b[32m )\u001b[0m )\u001b[33m )\u001b[0m given by the above data\n",
      "\n",
      "\u001b[46mT ^ 2:\u001b[0m\n",
      "\n",
      "\n",
      "== \u001b[33m-1\u001b[0m =======================\n",
      "A 1 x 1 matrix with entries in \u001b[32mAlgebroid( \u001b[0mkQ/I\u001b[32m )\u001b[0m\n",
      "\n",
      "[1,1]: (A)-[{ 1*(A) }]->(A)\n",
      "== \u001b[33m0\u001b[0m =======================\n",
      "A 1 x 0 matrix with entries in \u001b[32mAlgebroid( \u001b[0mkQ/I\u001b[32m )\u001b[0m\n",
      "\n",
      "\n",
      "A morphism in \u001b[33mHomotopy^• category( \u001b[0mAdditive closure( \u001b[32mAlgebroid( \u001b[0mkQ/I\u001b[32m )\u001b[0m )\u001b[33m )\u001b[0m given by the above data\n",
      "\n",
      "\u001b[46mΣ( T[ 0 ] ):\u001b[0m\n",
      "\n",
      "== \u001b[33m-1\u001b[0m =======================\n",
      "A formal direct sum consisting of 1 objects.\n",
      "<(A)>\n",
      "\n",
      "=============================\n",
      "\n",
      "  \u001b[33m |\u001b[0m\n",
      "A 1 x 0 matrix with entries in \u001b[32mAlgebroid( \u001b[0mkQ/I\u001b[32m )\u001b[0m\n",
      "\n",
      "  \u001b[33m |\u001b[0m\n",
      "  \u001b[33m V\u001b[0m\n",
      "\n",
      "== \u001b[33m0\u001b[0m =======================\n",
      "A formal direct sum consisting of 0 objects.\n",
      "\n",
      "============================\n",
      "\n",
      "\n",
      "An object in \u001b[33mHomotopy^• category( \u001b[0mAdditive closure( \u001b[32mAlgebroid( \u001b[0mkQ/I\u001b[32m )\u001b[0m )\u001b[33m )\u001b[0m given by the above data\n"
     ]
    }
   ],
   "source": [
    "Display( st_r );"
   ]
  },
  {
   "cell_type": "code",
   "execution_count": 54,
   "metadata": {},
   "outputs": [
    {
     "data": {
      "text/plain": [
       "<A morphism in \u001b[33mHomotopy^• category( \u001b[0mAdditive closure( \u001b[32mAlgebroid( \u001b[0mkQ/I\u001b[32m )\u001b[0m )\u001b[33m )\u001b[0m>"
      ]
     },
     "execution_count": 54,
     "metadata": {
      "text/plain": ""
     },
     "output_type": "execute_result"
    }
   ],
   "source": [
    "m_b_st_cones := MorphismBetweenStandardConeObjects( r, f_0, f_1, s );"
   ]
  },
  {
   "cell_type": "code",
   "execution_count": 55,
   "metadata": {},
   "outputs": [
    {
     "name": "stdout",
     "output_type": "stream",
     "text": [
      "\n",
      "== \u001b[32m-1\u001b[0m =======================\n",
      "A 1 x 1 matrix with entries in \u001b[32mAlgebroid( \u001b[0mkQ/I\u001b[32m )\u001b[0m\n",
      "\n",
      "[1,1]: (A)-[{ 1*(f_0) }]->(B)\n",
      "== \u001b[32m0\u001b[0m =======================\n",
      "A 1 x 1 matrix with entries in \u001b[32mAlgebroid( \u001b[0mkQ/I\u001b[32m )\u001b[0m\n",
      "\n",
      "[1,1]: (C)-[{ 1*(f_1) }]->(D)\n",
      "\n",
      "A morphism in \u001b[33mHomotopy^• category( \u001b[0mAdditive closure( \u001b[32mAlgebroid( \u001b[0mkQ/I\u001b[32m )\u001b[0m )\u001b[33m )\u001b[0m given by the above data\n"
     ]
    }
   ],
   "source": [
    "Display( m_b_st_cones );"
   ]
  },
  {
   "cell_type": "code",
   "execution_count": 56,
   "metadata": {},
   "outputs": [
    {
     "data": {
      "text/plain": [
       "<A morphism in \u001b[34mCategory of exact triangles( \u001b[0m\u001b[33mHomotopy^• category( \u001b[0mAdditive closure( \u001b[32mAlgebroid( \u001b[0mkQ/I\u001b[32m )\u001b[0m )\u001b[33m )\u001b[0m\u001b[34m )\u001b[0m>"
      ]
     },
     "execution_count": 56,
     "metadata": {
      "text/plain": ""
     },
     "output_type": "execute_result"
    }
   ],
   "source": [
    "f := MorphismOfExactTriangles( st_r, f_0, f_1, st_s );"
   ]
  },
  {
   "cell_type": "code",
   "execution_count": 57,
   "metadata": {},
   "outputs": [
    {
     "name": "stdout",
     "output_type": "stream",
     "text": [
      "A morphism of exact triangles\n",
      "\n",
      "T[0] ------> T[1] ------> T[2] ------> Σ( T[0] )      \n",
      " |            |            |              |           \n",
      " | mu[0]      | mu[1]      | mu[2]        | Σ( mu[0] )\n",
      " V            V            V              V           \n",
      "Q[0] ------> Q[1] ------> Q[2] ------> Σ( Q[0] )      \n",
      "\n",
      "\u001b[46mmu[ 0 ]:\u001b[0m\n",
      "\n",
      "\n",
      "== \u001b[33m0\u001b[0m =======================\n",
      "A 1 x 1 matrix with entries in \u001b[32mAlgebroid( \u001b[0mkQ/I\u001b[32m )\u001b[0m\n",
      "\n",
      "[1,1]: (A)-[{ 1*(f_0) }]->(B)\n",
      "\n",
      "A morphism in \u001b[33mHomotopy^• category( \u001b[0mAdditive closure( \u001b[32mAlgebroid( \u001b[0mkQ/I\u001b[32m )\u001b[0m )\u001b[33m )\u001b[0m given by the above data\n",
      "\n",
      "\u001b[46mmu[ 1 ]:\u001b[0m\n",
      "\n",
      "\n",
      "== \u001b[35m0\u001b[0m =======================\n",
      "A 1 x 1 matrix with entries in \u001b[32mAlgebroid( \u001b[0mkQ/I\u001b[32m )\u001b[0m\n",
      "\n",
      "[1,1]: (C)-[{ 1*(f_1) }]->(D)\n",
      "\n",
      "A morphism in \u001b[33mHomotopy^• category( \u001b[0mAdditive closure( \u001b[32mAlgebroid( \u001b[0mkQ/I\u001b[32m )\u001b[0m )\u001b[33m )\u001b[0m given by the above data\n",
      "\n",
      "\u001b[46mmu[ 2 ]:\u001b[0m\n",
      "\n",
      "\n",
      "== \u001b[35m-1\u001b[0m =======================\n",
      "A 1 x 1 matrix with entries in \u001b[32mAlgebroid( \u001b[0mkQ/I\u001b[32m )\u001b[0m\n",
      "\n",
      "[1,1]: (A)-[{ 1*(f_0) }]->(B)\n",
      "== \u001b[35m0\u001b[0m =======================\n",
      "A 1 x 1 matrix with entries in \u001b[32mAlgebroid( \u001b[0mkQ/I\u001b[32m )\u001b[0m\n",
      "\n",
      "[1,1]: (C)-[{ 1*(f_1) }]->(D)\n",
      "\n",
      "A morphism in \u001b[33mHomotopy^• category( \u001b[0mAdditive closure( \u001b[32mAlgebroid( \u001b[0mkQ/I\u001b[32m )\u001b[0m )\u001b[33m )\u001b[0m given by the above data\n",
      "\n",
      "\u001b[46mmu[ 3 ]:\u001b[0m\n",
      "\n",
      "\n",
      "== \u001b[35m-1\u001b[0m =======================\n",
      "A 1 x 1 matrix with entries in \u001b[32mAlgebroid( \u001b[0mkQ/I\u001b[32m )\u001b[0m\n",
      "\n",
      "[1,1]: (A)-[{ 1*(f_0) }]->(B)\n",
      "== \u001b[35m0\u001b[0m =======================\n",
      "A 0 x 0 matrix with entries in \u001b[32mAlgebroid( \u001b[0mkQ/I\u001b[32m )\u001b[0m\n",
      "\n",
      "\n",
      "A morphism in \u001b[33mHomotopy^• category( \u001b[0mAdditive closure( \u001b[32mAlgebroid( \u001b[0mkQ/I\u001b[32m )\u001b[0m )\u001b[33m )\u001b[0m given by the above data\n"
     ]
    }
   ],
   "source": [
    "Display( f );"
   ]
  },
  {
   "cell_type": "code",
   "execution_count": 58,
   "metadata": {},
   "outputs": [
    {
     "data": {
      "text/plain": [
       "<A morphism in \u001b[33mHomotopy^• category( \u001b[0mAdditive closure( \u001b[32mAlgebroid( \u001b[0mkQ/I\u001b[32m )\u001b[0m )\u001b[33m )\u001b[0m>"
      ]
     },
     "execution_count": 58,
     "metadata": {
      "text/plain": ""
     },
     "output_type": "execute_result"
    }
   ],
   "source": [
    "g01 := HomotopyCategoryMorphism( \n",
    "            st_r[ 2 ],\n",
    "            st_s[ 2 ],\n",
    "            [ oid.( \"g_0\" ) / oplus, oid.( \"g_1\" ) / oplus ],\n",
    "            -1\n",
    "        );"
   ]
  },
  {
   "cell_type": "code",
   "execution_count": 59,
   "metadata": {},
   "outputs": [
    {
     "data": {
      "text/plain": [
       "true"
      ]
     },
     "execution_count": 59,
     "metadata": {
      "text/plain": ""
     },
     "output_type": "execute_result"
    }
   ],
   "source": [
    "IsWellDefined( g01 );"
   ]
  },
  {
   "cell_type": "code",
   "execution_count": 60,
   "metadata": {},
   "outputs": [
    {
     "data": {
      "text/plain": [
       "<A morphism in \u001b[34mCategory of exact triangles( \u001b[0m\u001b[33mHomotopy^• category( \u001b[0mAdditive closure( \u001b[32mAlgebroid( \u001b[0mkQ/I\u001b[32m )\u001b[0m )\u001b[33m )\u001b[0m\u001b[34m )\u001b[0m>"
      ]
     },
     "execution_count": 60,
     "metadata": {
      "text/plain": ""
     },
     "output_type": "execute_result"
    }
   ],
   "source": [
    "g := MorphismOfExactTriangles(\n",
    "            st_r,\n",
    "            f[ 0 ],\n",
    "            f[ 1 ],\n",
    "            g01,\n",
    "            st_s\n",
    "        );"
   ]
  },
  {
   "cell_type": "code",
   "execution_count": 61,
   "metadata": {},
   "outputs": [
    {
     "data": {
      "text/plain": [
       "true"
      ]
     },
     "execution_count": 61,
     "metadata": {
      "text/plain": ""
     },
     "output_type": "execute_result"
    }
   ],
   "source": [
    "IsWellDefined( g );"
   ]
  }
 ],
 "metadata": {
  "kernelspec": {
   "display_name": "GAP 4",
   "language": "gap",
   "name": "gap-4"
  },
  "language_info": {
   "codemirror_mode": "gap",
   "file_extension": ".g",
   "mimetype": "text/x-gap",
   "name": "GAP 4",
   "nbconvert_exporter": "",
   "pygments_lexer": "gap",
   "version": "4.12dev"
  }
 },
 "nbformat": 4,
 "nbformat_minor": 2
}
